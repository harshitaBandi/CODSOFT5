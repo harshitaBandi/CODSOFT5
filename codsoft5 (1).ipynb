{
  "nbformat": 4,
  "nbformat_minor": 0,
  "metadata": {
    "colab": {
      "provenance": []
    },
    "kernelspec": {
      "name": "python3",
      "display_name": "Python 3"
    },
    "language_info": {
      "name": "python"
    }
  },
  "cells": [
    {
      "cell_type": "code",
      "execution_count": null,
      "metadata": {
        "id": "q6JAv9EVRyQB"
      },
      "outputs": [],
      "source": [
        "import cv2\n",
        "import numpy as np\n",
        "from sklearn.metrics.pairwise import euclidean_distances\n",
        "\n",
        "# Load the face detection model\n",
        "face_detector = cv2.CascadeClassifier('haarcascade_frontalface_default.xml')\n",
        "\n",
        "# Load the face recognition model\n",
        "face_recognition_model = load_face_recognition_model()\n",
        "\n",
        "# Define a function to extract facial features\n",
        "def extract_facial_features(image):\n",
        "    gray = cv2.cvtColor(image, cv2.COLOR_BGR2GRAY)\n",
        "    faces = face_detector.detectMultiScale(gray)\n",
        "\n",
        "    # Extract the facial features of each detected face\n",
        "    facial_features = []\n",
        "    for (x, y, w, h) in faces:\n",
        "        face = gray[y:y + h, x:x + w]\n",
        "        face = cv2.resize(face, (128, 128))\n",
        "        face = np.array(face).flatten()\n",
        "\n",
        "        facial_features.append(face)\n",
        "\n",
        "    return facial_features\n",
        "\n",
        "# Read the image or video\n",
        "image = cv2.imread('image.jpg')\n",
        "\n",
        "# Detect faces in the image or video\n",
        "faces = face_detector.detectMultiScale(image)\n",
        "\n",
        "# Extract the facial features of the detected faces\n",
        "facial_features = extract_facial_features(image)\n",
        "\n",
        "# Recognize the faces in the image or video\n",
        "identities = []\n",
        "for facial_features in facial_features:\n",
        "    # Calculate the distance between the facial features and the facial features of each known person\n",
        "    distances = euclidean_distances(facial_features, face_recognition_model.embeddings)\n",
        "\n",
        "    # Find the identity of the known person with the smallest distance\n",
        "    identity = face_recognition_model.identities[np.argmin(distances)]\n",
        "\n",
        "    identities.append(identity)\n",
        "\n",
        "# Print the identities of the detected faces\n",
        "for identity in identities:\n",
        "    print(identity)\n"
      ]
    }
  ]
}